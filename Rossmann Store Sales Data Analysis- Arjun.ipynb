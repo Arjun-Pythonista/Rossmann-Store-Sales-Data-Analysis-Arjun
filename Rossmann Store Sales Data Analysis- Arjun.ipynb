{
 "cells": [
  {
   "cell_type": "markdown",
   "metadata": {},
   "source": [
    "Data fields\n",
    "\n",
    "Most of the fields are self-explanatory. The following are descriptions for those that aren't.\n",
    "\n",
    "•\tId - an Id that represents a (Store, Date) duple within the test set\n",
    "•\tStore - a unique Id for each store\n",
    "•\tSales - the turnover for any given day (this is what you are predicting)\n",
    "•\tCustomers - the number of customers on a given day\n",
    "•\tOpen - an indicator for whether the store was open: 0 = closed, 1 = open\n",
    "•\tStateHoliday - indicates a state holiday. Normally all stores, with few exceptions, are closed on state holidays. Note that all schools are closed on public holidays and weekends. a = public holiday, b = Easter holiday, c = Christmas, 0 = None\n",
    "•\tSchoolHoliday - indicates if the (Store, Date) was affected by the closure of public schools\n",
    "•\tStoreType - differentiates between 4 different store models: a, b, c, d\n",
    "•\tAssortment - describes an assortment level: a = basic, b = extra, c = extended\n",
    "•\tCompetitionDistance - distance in meters to the nearest competitor store\n",
    "•\tCompetitionOpenSince[Month/Year] - gives the approximate year and month of the time the nearest competitor was opened\n",
    "•\tPromo - indicates whether a store is running a promo on that day\n",
    "•\tPromo2 - Promo2 is a continuing and consecutive promotion for some stores: 0 = store is not participating, 1 = store is participating\n",
    "•\tPromo2Since[Year/Week] - describes the year and calendar week when the store started participating in Promo2\n",
    "•\tPromoInterval - describes the consecutive intervals Promo2 is started, naming the months the promotion is started anew. E.g. \"Feb,May,Aug,Nov\" means each round starts in February, May, August, November of any given year for that store\n"
   ]
  },
  {
   "cell_type": "markdown",
   "metadata": {},
   "source": [
    "Rossmann operates over 3,000 drug stores in 7 European countries. Currently, Rossmann store managers are tasked with predicting their daily sales for up to six weeks in advance. Store sales are influenced by many factors, including promotions, competition, school and state holidays, seasonality, and locality. With thousands of individual managers predicting sales based on their unique circumstances, the accuracy of results can be quite varied."
   ]
  },
  {
   "cell_type": "code",
   "execution_count": 1,
   "metadata": {
    "collapsed": true
   },
   "outputs": [],
   "source": [
    "\n",
    "import pandas as pd\n",
    "from pandas import Series,DataFrame\n",
    "import numpy as np\n",
    "import matplotlib.pyplot as plt\n",
    "import seaborn as sns\n",
    "sns.set_style('whitegrid')\n",
    "%matplotlib inline\n",
    "\n",
    "import pandas as pd\n",
    "\n",
    "import json\n",
    "\n",
    "import os\n",
    "\n",
    "from matplotlib.pyplot import *\n",
    "\n",
    "\n",
    "import json"
   ]
  },
  {
   "cell_type": "code",
   "execution_count": 2,
   "metadata": {
    "collapsed": true
   },
   "outputs": [],
   "source": [
    "def slash_rep(path):\n",
    "    #it replaces \\ with /\n",
    "    return path.replace(\"\\r\",\"/r\")"
   ]
  },
  {
   "cell_type": "code",
   "execution_count": 13,
   "metadata": {},
   "outputs": [
    {
     "data": {
      "text/plain": [
       "'C:\\\\Users\\\\arjun\\\\Documents\\\\Data_Analysis Projects-Aj\\\\Rossmann Store Sales Analysis\\\\train.csv'"
      ]
     },
     "execution_count": 13,
     "metadata": {},
     "output_type": "execute_result"
    }
   ],
   "source": [
    "slash_rep(r\"C:\\Users\\arjun\\Documents\\Data_Analysis Projects-Aj\\Rossmann Store Sales Analysis\\store.csv\")\n"
   ]
  },
  {
   "cell_type": "code",
   "execution_count": 14,
   "metadata": {},
   "outputs": [
    {
     "data": {
      "text/plain": [
       "'C:\\\\Users\\\\arjun\\\\Documents\\\\Data_Analysis Projects-Aj\\\\Rossmann Store Sales Analysis\\\\train.csv'"
      ]
     },
     "execution_count": 14,
     "metadata": {},
     "output_type": "execute_result"
    }
   ],
   "source": [
    "slash_rep(r\"C:\\Users\\arjun\\Documents\\Data_Analysis Projects-Aj\\Rossmann Store Sales Analysis\\train.csv\")"
   ]
  },
  {
   "cell_type": "code",
   "execution_count": 15,
   "metadata": {},
   "outputs": [
    {
     "data": {
      "text/plain": [
       "'C:\\\\Users\\\\arjun\\\\Documents\\\\Data_Analysis Projects-Aj\\\\Rossmann Store Sales Analysis\\\\test.csv'"
      ]
     },
     "execution_count": 15,
     "metadata": {},
     "output_type": "execute_result"
    }
   ],
   "source": [
    "slash_rep(r\"C:\\Users\\arjun\\Documents\\Data_Analysis Projects-Aj\\Rossmann Store Sales Analysis\\test.csv\")"
   ]
  },
  {
   "cell_type": "code",
   "execution_count": 3,
   "metadata": {
    "collapsed": true
   },
   "outputs": [],
   "source": [
    "train = \"C:\\\\Users\\\\arjun\\\\Documents\\\\Data_Analysis Projects-Aj\\\\Rossmann Store Sales Analysis\\\\train.csv\"\n",
    "test = \"C:\\\\Users\\\\arjun\\\\Documents\\\\Data_Analysis Projects-Aj\\\\Rossmann Store Sales Analysis\\\\test.csv\""
   ]
  },
  {
   "cell_type": "code",
   "execution_count": 4,
   "metadata": {},
   "outputs": [
    {
     "name": "stderr",
     "output_type": "stream",
     "text": [
      "C:\\ProgramData\\Anaconda3\\lib\\site-packages\\IPython\\core\\interactiveshell.py:2717: DtypeWarning: Columns (7) have mixed types. Specify dtype option on import or set low_memory=False.\n",
      "  interactivity=interactivity, compiler=compiler, result=result)\n"
     ]
    }
   ],
   "source": [
    "store_df =  pd.read_csv(\"C:\\\\Users\\\\arjun\\\\Documents\\\\Data_Analysis Projects-Aj\\\\Rossmann Store Sales Analysis\\\\store.csv\")\n",
    "rossmann_df = pd.read_csv(train)  \n",
    "test_df = pd.read_csv(test)"
   ]
  },
  {
   "cell_type": "code",
   "execution_count": 5,
   "metadata": {
    "scrolled": true
   },
   "outputs": [
    {
     "data": {
      "text/html": [
       "<div>\n",
       "<style>\n",
       "    .dataframe thead tr:only-child th {\n",
       "        text-align: right;\n",
       "    }\n",
       "\n",
       "    .dataframe thead th {\n",
       "        text-align: left;\n",
       "    }\n",
       "\n",
       "    .dataframe tbody tr th {\n",
       "        vertical-align: top;\n",
       "    }\n",
       "</style>\n",
       "<table border=\"1\" class=\"dataframe\">\n",
       "  <thead>\n",
       "    <tr style=\"text-align: right;\">\n",
       "      <th></th>\n",
       "      <th>Store</th>\n",
       "      <th>StoreType</th>\n",
       "      <th>Assortment</th>\n",
       "      <th>CompetitionDistance</th>\n",
       "      <th>CompetitionOpenSinceMonth</th>\n",
       "      <th>CompetitionOpenSinceYear</th>\n",
       "      <th>Promo2</th>\n",
       "      <th>Promo2SinceWeek</th>\n",
       "      <th>Promo2SinceYear</th>\n",
       "      <th>PromoInterval</th>\n",
       "    </tr>\n",
       "  </thead>\n",
       "  <tbody>\n",
       "    <tr>\n",
       "      <th>0</th>\n",
       "      <td>1</td>\n",
       "      <td>c</td>\n",
       "      <td>a</td>\n",
       "      <td>1270.0</td>\n",
       "      <td>9.0</td>\n",
       "      <td>2008.0</td>\n",
       "      <td>0</td>\n",
       "      <td>NaN</td>\n",
       "      <td>NaN</td>\n",
       "      <td>NaN</td>\n",
       "    </tr>\n",
       "    <tr>\n",
       "      <th>1</th>\n",
       "      <td>2</td>\n",
       "      <td>a</td>\n",
       "      <td>a</td>\n",
       "      <td>570.0</td>\n",
       "      <td>11.0</td>\n",
       "      <td>2007.0</td>\n",
       "      <td>1</td>\n",
       "      <td>13.0</td>\n",
       "      <td>2010.0</td>\n",
       "      <td>Jan,Apr,Jul,Oct</td>\n",
       "    </tr>\n",
       "    <tr>\n",
       "      <th>2</th>\n",
       "      <td>3</td>\n",
       "      <td>a</td>\n",
       "      <td>a</td>\n",
       "      <td>14130.0</td>\n",
       "      <td>12.0</td>\n",
       "      <td>2006.0</td>\n",
       "      <td>1</td>\n",
       "      <td>14.0</td>\n",
       "      <td>2011.0</td>\n",
       "      <td>Jan,Apr,Jul,Oct</td>\n",
       "    </tr>\n",
       "    <tr>\n",
       "      <th>3</th>\n",
       "      <td>4</td>\n",
       "      <td>c</td>\n",
       "      <td>c</td>\n",
       "      <td>620.0</td>\n",
       "      <td>9.0</td>\n",
       "      <td>2009.0</td>\n",
       "      <td>0</td>\n",
       "      <td>NaN</td>\n",
       "      <td>NaN</td>\n",
       "      <td>NaN</td>\n",
       "    </tr>\n",
       "    <tr>\n",
       "      <th>4</th>\n",
       "      <td>5</td>\n",
       "      <td>a</td>\n",
       "      <td>a</td>\n",
       "      <td>29910.0</td>\n",
       "      <td>4.0</td>\n",
       "      <td>2015.0</td>\n",
       "      <td>0</td>\n",
       "      <td>NaN</td>\n",
       "      <td>NaN</td>\n",
       "      <td>NaN</td>\n",
       "    </tr>\n",
       "  </tbody>\n",
       "</table>\n",
       "</div>"
      ],
      "text/plain": [
       "   Store StoreType Assortment  CompetitionDistance  CompetitionOpenSinceMonth  \\\n",
       "0      1         c          a               1270.0                        9.0   \n",
       "1      2         a          a                570.0                       11.0   \n",
       "2      3         a          a              14130.0                       12.0   \n",
       "3      4         c          c                620.0                        9.0   \n",
       "4      5         a          a              29910.0                        4.0   \n",
       "\n",
       "   CompetitionOpenSinceYear  Promo2  Promo2SinceWeek  Promo2SinceYear  \\\n",
       "0                    2008.0       0              NaN              NaN   \n",
       "1                    2007.0       1             13.0           2010.0   \n",
       "2                    2006.0       1             14.0           2011.0   \n",
       "3                    2009.0       0              NaN              NaN   \n",
       "4                    2015.0       0              NaN              NaN   \n",
       "\n",
       "     PromoInterval  \n",
       "0              NaN  \n",
       "1  Jan,Apr,Jul,Oct  \n",
       "2  Jan,Apr,Jul,Oct  \n",
       "3              NaN  \n",
       "4              NaN  "
      ]
     },
     "execution_count": 5,
     "metadata": {},
     "output_type": "execute_result"
    }
   ],
   "source": [
    "store_df.head(5)"
   ]
  },
  {
   "cell_type": "code",
   "execution_count": 6,
   "metadata": {},
   "outputs": [
    {
     "data": {
      "text/html": [
       "<div>\n",
       "<style>\n",
       "    .dataframe thead tr:only-child th {\n",
       "        text-align: right;\n",
       "    }\n",
       "\n",
       "    .dataframe thead th {\n",
       "        text-align: left;\n",
       "    }\n",
       "\n",
       "    .dataframe tbody tr th {\n",
       "        vertical-align: top;\n",
       "    }\n",
       "</style>\n",
       "<table border=\"1\" class=\"dataframe\">\n",
       "  <thead>\n",
       "    <tr style=\"text-align: right;\">\n",
       "      <th></th>\n",
       "      <th>Store</th>\n",
       "      <th>DayOfWeek</th>\n",
       "      <th>Date</th>\n",
       "      <th>Sales</th>\n",
       "      <th>Customers</th>\n",
       "      <th>Open</th>\n",
       "      <th>Promo</th>\n",
       "      <th>StateHoliday</th>\n",
       "      <th>SchoolHoliday</th>\n",
       "    </tr>\n",
       "  </thead>\n",
       "  <tbody>\n",
       "    <tr>\n",
       "      <th>0</th>\n",
       "      <td>1</td>\n",
       "      <td>5</td>\n",
       "      <td>2015-07-31</td>\n",
       "      <td>5263</td>\n",
       "      <td>555</td>\n",
       "      <td>1</td>\n",
       "      <td>1</td>\n",
       "      <td>0</td>\n",
       "      <td>1</td>\n",
       "    </tr>\n",
       "    <tr>\n",
       "      <th>1</th>\n",
       "      <td>2</td>\n",
       "      <td>5</td>\n",
       "      <td>2015-07-31</td>\n",
       "      <td>6064</td>\n",
       "      <td>625</td>\n",
       "      <td>1</td>\n",
       "      <td>1</td>\n",
       "      <td>0</td>\n",
       "      <td>1</td>\n",
       "    </tr>\n",
       "    <tr>\n",
       "      <th>2</th>\n",
       "      <td>3</td>\n",
       "      <td>5</td>\n",
       "      <td>2015-07-31</td>\n",
       "      <td>8314</td>\n",
       "      <td>821</td>\n",
       "      <td>1</td>\n",
       "      <td>1</td>\n",
       "      <td>0</td>\n",
       "      <td>1</td>\n",
       "    </tr>\n",
       "    <tr>\n",
       "      <th>3</th>\n",
       "      <td>4</td>\n",
       "      <td>5</td>\n",
       "      <td>2015-07-31</td>\n",
       "      <td>13995</td>\n",
       "      <td>1498</td>\n",
       "      <td>1</td>\n",
       "      <td>1</td>\n",
       "      <td>0</td>\n",
       "      <td>1</td>\n",
       "    </tr>\n",
       "  </tbody>\n",
       "</table>\n",
       "</div>"
      ],
      "text/plain": [
       "   Store  DayOfWeek        Date  Sales  Customers  Open  Promo StateHoliday  \\\n",
       "0      1          5  2015-07-31   5263        555     1      1            0   \n",
       "1      2          5  2015-07-31   6064        625     1      1            0   \n",
       "2      3          5  2015-07-31   8314        821     1      1            0   \n",
       "3      4          5  2015-07-31  13995       1498     1      1            0   \n",
       "\n",
       "   SchoolHoliday  \n",
       "0              1  \n",
       "1              1  \n",
       "2              1  \n",
       "3              1  "
      ]
     },
     "execution_count": 6,
     "metadata": {},
     "output_type": "execute_result"
    }
   ],
   "source": [
    "rossmann_df.head(4)"
   ]
  },
  {
   "cell_type": "code",
   "execution_count": 7,
   "metadata": {},
   "outputs": [
    {
     "data": {
      "text/html": [
       "<div>\n",
       "<style>\n",
       "    .dataframe thead tr:only-child th {\n",
       "        text-align: right;\n",
       "    }\n",
       "\n",
       "    .dataframe thead th {\n",
       "        text-align: left;\n",
       "    }\n",
       "\n",
       "    .dataframe tbody tr th {\n",
       "        vertical-align: top;\n",
       "    }\n",
       "</style>\n",
       "<table border=\"1\" class=\"dataframe\">\n",
       "  <thead>\n",
       "    <tr style=\"text-align: right;\">\n",
       "      <th></th>\n",
       "      <th>Id</th>\n",
       "      <th>Store</th>\n",
       "      <th>DayOfWeek</th>\n",
       "      <th>Date</th>\n",
       "      <th>Open</th>\n",
       "      <th>Promo</th>\n",
       "      <th>StateHoliday</th>\n",
       "      <th>SchoolHoliday</th>\n",
       "    </tr>\n",
       "  </thead>\n",
       "  <tbody>\n",
       "    <tr>\n",
       "      <th>0</th>\n",
       "      <td>1</td>\n",
       "      <td>1</td>\n",
       "      <td>4</td>\n",
       "      <td>2015-09-17</td>\n",
       "      <td>1.0</td>\n",
       "      <td>1</td>\n",
       "      <td>0</td>\n",
       "      <td>0</td>\n",
       "    </tr>\n",
       "    <tr>\n",
       "      <th>1</th>\n",
       "      <td>2</td>\n",
       "      <td>3</td>\n",
       "      <td>4</td>\n",
       "      <td>2015-09-17</td>\n",
       "      <td>1.0</td>\n",
       "      <td>1</td>\n",
       "      <td>0</td>\n",
       "      <td>0</td>\n",
       "    </tr>\n",
       "    <tr>\n",
       "      <th>2</th>\n",
       "      <td>3</td>\n",
       "      <td>7</td>\n",
       "      <td>4</td>\n",
       "      <td>2015-09-17</td>\n",
       "      <td>1.0</td>\n",
       "      <td>1</td>\n",
       "      <td>0</td>\n",
       "      <td>0</td>\n",
       "    </tr>\n",
       "    <tr>\n",
       "      <th>3</th>\n",
       "      <td>4</td>\n",
       "      <td>8</td>\n",
       "      <td>4</td>\n",
       "      <td>2015-09-17</td>\n",
       "      <td>1.0</td>\n",
       "      <td>1</td>\n",
       "      <td>0</td>\n",
       "      <td>0</td>\n",
       "    </tr>\n",
       "    <tr>\n",
       "      <th>4</th>\n",
       "      <td>5</td>\n",
       "      <td>9</td>\n",
       "      <td>4</td>\n",
       "      <td>2015-09-17</td>\n",
       "      <td>1.0</td>\n",
       "      <td>1</td>\n",
       "      <td>0</td>\n",
       "      <td>0</td>\n",
       "    </tr>\n",
       "  </tbody>\n",
       "</table>\n",
       "</div>"
      ],
      "text/plain": [
       "   Id  Store  DayOfWeek        Date  Open  Promo StateHoliday  SchoolHoliday\n",
       "0   1      1          4  2015-09-17   1.0      1            0              0\n",
       "1   2      3          4  2015-09-17   1.0      1            0              0\n",
       "2   3      7          4  2015-09-17   1.0      1            0              0\n",
       "3   4      8          4  2015-09-17   1.0      1            0              0\n",
       "4   5      9          4  2015-09-17   1.0      1            0              0"
      ]
     },
     "execution_count": 7,
     "metadata": {},
     "output_type": "execute_result"
    }
   ],
   "source": [
    "test_df.head(5)"
   ]
  },
  {
   "cell_type": "code",
   "execution_count": 8,
   "metadata": {
    "scrolled": false
   },
   "outputs": [
    {
     "name": "stdout",
     "output_type": "stream",
     "text": [
      "<class 'pandas.core.frame.DataFrame'>\n",
      "RangeIndex: 1017209 entries, 0 to 1017208\n",
      "Data columns (total 9 columns):\n",
      "Store            1017209 non-null int64\n",
      "DayOfWeek        1017209 non-null int64\n",
      "Date             1017209 non-null object\n",
      "Sales            1017209 non-null int64\n",
      "Customers        1017209 non-null int64\n",
      "Open             1017209 non-null int64\n",
      "Promo            1017209 non-null int64\n",
      "StateHoliday     1017209 non-null object\n",
      "SchoolHoliday    1017209 non-null int64\n",
      "dtypes: int64(7), object(2)\n",
      "memory usage: 69.8+ MB\n",
      "----------------------------------------------------\n",
      "<class 'pandas.core.frame.DataFrame'>\n",
      "RangeIndex: 1115 entries, 0 to 1114\n",
      "Data columns (total 10 columns):\n",
      "Store                        1115 non-null int64\n",
      "StoreType                    1115 non-null object\n",
      "Assortment                   1115 non-null object\n",
      "CompetitionDistance          1112 non-null float64\n",
      "CompetitionOpenSinceMonth    761 non-null float64\n",
      "CompetitionOpenSinceYear     761 non-null float64\n",
      "Promo2                       1115 non-null int64\n",
      "Promo2SinceWeek              571 non-null float64\n",
      "Promo2SinceYear              571 non-null float64\n",
      "PromoInterval                571 non-null object\n",
      "dtypes: float64(5), int64(2), object(3)\n",
      "memory usage: 87.2+ KB\n",
      "----------------------------------------------------\n",
      "<class 'pandas.core.frame.DataFrame'>\n",
      "RangeIndex: 41088 entries, 0 to 41087\n",
      "Data columns (total 8 columns):\n",
      "Id               41088 non-null int64\n",
      "Store            41088 non-null int64\n",
      "DayOfWeek        41088 non-null int64\n",
      "Date             41088 non-null object\n",
      "Open             41077 non-null float64\n",
      "Promo            41088 non-null int64\n",
      "StateHoliday     41088 non-null object\n",
      "SchoolHoliday    41088 non-null int64\n",
      "dtypes: float64(1), int64(5), object(2)\n",
      "memory usage: 2.5+ MB\n"
     ]
    }
   ],
   "source": [
    "rossmann_df.info()\n",
    "print(\"----------------------------------------------------\")\n",
    "store_df.info()\n",
    "print(\"----------------------------------------------------\")\n",
    "test_df.info()"
   ]
  },
  {
   "cell_type": "code",
   "execution_count": 9,
   "metadata": {},
   "outputs": [
    {
     "data": {
      "text/plain": [
       "(1017209, 9)"
      ]
     },
     "execution_count": 9,
     "metadata": {},
     "output_type": "execute_result"
    }
   ],
   "source": [
    "rossmann_df.shape"
   ]
  },
  {
   "cell_type": "code",
   "execution_count": 10,
   "metadata": {
    "collapsed": true
   },
   "outputs": [],
   "source": [
    "class Sales_analysis(object):\n",
    "#''' it contains methods for analysis for sales dataset :  \n",
    "# ''' it contains plotting null values, finding top rated by column names, plotting bar and scatter plots, mean and sum groupby ''\n",
    "    \n",
    "    def __init__(self, df):\n",
    "        self.df = df\n",
    "        \n",
    "    def null_plot(self):\n",
    "#plots bar graph for all the null values in a dataframe\n",
    "        null = self.df.isnull().sum().plot(kind = 'bar',figsize = (10,5))\n",
    "        return null\n",
    "    \n",
    "######################---Top---###################################\n",
    "        \n",
    "    def top_rated(self, col1, col2,clo3, col4):\n",
    " # function that takes 4 column names, groups by maximum of col1 w.r.t(displays) col2,3,4 and sorts by col2       \n",
    "        mr = self.df.groupby(col1)[col2, clo3,col4].max().sort_values(by = col2, ascending = False)\n",
    "        return mr\n",
    "    \n",
    "#     def top_n(self, col1, col2,col3,col4, n):\n",
    "# # Top n (n = natural number) for any two columns within any df along with dataframe df.\n",
    "#     #Finds top n of two columns!\n",
    "# #where col1 = displayed w.r.t col2's nlargest values\n",
    "#         topn = self.df.nlargest(n, col2)[[col1,col2,col3,col4]].reset_index()\n",
    "#         return topn \n",
    "    \n",
    "    def top_n(self, col1, col2,col3,col4, n):\n",
    "    #to find Top n of any two columns(col1, col2), in a Dataframe(df).\n",
    "        tn = self.df.nlargest(n, col2)[[col1,col2,col3,col4]].reset_index(drop=True)\n",
    "        return tn\n",
    "    \n",
    "    def top_10(self, col1, col2,col3):\n",
    "    #to find Top 10 of any two columns(col1, col2), in a Dataframe(df).\n",
    "        t10 = self.df.nlargest(10, col2)[[col3,col1,col2]].reset_index(drop=True)\n",
    "        return t10\n",
    "    \n",
    "    \n",
    "    def top_rated_year(self,col1,col2,col3,year):\n",
    "        myr = self.df.groupby(col1).max().loc[year][[col1,col2,col3]]\n",
    "        return myr\n",
    "    \n",
    "    def last_n(self, col1,col2,col3,n):\n",
    "        ln = self.df.groupby(col1)[col2,col3].max().tail(n)\n",
    "        return ln\n",
    "    \n",
    "    \n",
    "  "
   ]
  },
  {
   "cell_type": "code",
   "execution_count": 11,
   "metadata": {
    "collapsed": true
   },
   "outputs": [],
   "source": [
    "sales = Sales_analysis(rossmann_df)"
   ]
  },
  {
   "cell_type": "code",
   "execution_count": 12,
   "metadata": {},
   "outputs": [
    {
     "data": {
      "text/plain": [
       "Store            0\n",
       "DayOfWeek        0\n",
       "Date             0\n",
       "Sales            0\n",
       "Customers        0\n",
       "Open             0\n",
       "Promo            0\n",
       "StateHoliday     0\n",
       "SchoolHoliday    0\n",
       "dtype: int64"
      ]
     },
     "execution_count": 12,
     "metadata": {},
     "output_type": "execute_result"
    }
   ],
   "source": [
    "rossmann_df.isnull().sum()"
   ]
  },
  {
   "cell_type": "code",
   "execution_count": 13,
   "metadata": {
    "collapsed": true
   },
   "outputs": [],
   "source": [
    "def barplot_col(df, col1, col2,labelx,labely):\n",
    " # Function to plot a Red Bar plot with two colomns in a given Dataframe(df).\n",
    "    #to plot a dataframes' Bar graph, colums and their labels \n",
    "        bplot = df.plot(kind='bar',x=col1 ,y=col2, figsize=(18,9), color='rbgk')\n",
    "        xl =plt.xlabel(labelx)\n",
    "        yl = plt.ylabel(labely)\n",
    "        return bplot, xl,yl"
   ]
  },
  {
   "cell_type": "code",
   "execution_count": null,
   "metadata": {
    "collapsed": true
   },
   "outputs": [],
   "source": [
    "# barplot_col(rossmann_df, \"Sales\", \"Customers\",\"Sales\",\"Customers\")"
   ]
  },
  {
   "cell_type": "code",
   "execution_count": 14,
   "metadata": {},
   "outputs": [
    {
     "data": {
      "text/html": [
       "<div>\n",
       "<style>\n",
       "    .dataframe thead tr:only-child th {\n",
       "        text-align: right;\n",
       "    }\n",
       "\n",
       "    .dataframe thead th {\n",
       "        text-align: left;\n",
       "    }\n",
       "\n",
       "    .dataframe tbody tr th {\n",
       "        vertical-align: top;\n",
       "    }\n",
       "</style>\n",
       "<table border=\"1\" class=\"dataframe\">\n",
       "  <thead>\n",
       "    <tr style=\"text-align: right;\">\n",
       "      <th></th>\n",
       "      <th>Store</th>\n",
       "      <th>Customers</th>\n",
       "      <th>Sales</th>\n",
       "    </tr>\n",
       "  </thead>\n",
       "  <tbody>\n",
       "    <tr>\n",
       "      <th>0</th>\n",
       "      <td>909</td>\n",
       "      <td>1721</td>\n",
       "      <td>41551</td>\n",
       "    </tr>\n",
       "    <tr>\n",
       "      <th>1</th>\n",
       "      <td>262</td>\n",
       "      <td>5132</td>\n",
       "      <td>38722</td>\n",
       "    </tr>\n",
       "    <tr>\n",
       "      <th>2</th>\n",
       "      <td>262</td>\n",
       "      <td>5458</td>\n",
       "      <td>38484</td>\n",
       "    </tr>\n",
       "    <tr>\n",
       "      <th>3</th>\n",
       "      <td>262</td>\n",
       "      <td>5192</td>\n",
       "      <td>38367</td>\n",
       "    </tr>\n",
       "    <tr>\n",
       "      <th>4</th>\n",
       "      <td>57</td>\n",
       "      <td>1970</td>\n",
       "      <td>38037</td>\n",
       "    </tr>\n",
       "    <tr>\n",
       "      <th>5</th>\n",
       "      <td>817</td>\n",
       "      <td>4381</td>\n",
       "      <td>38025</td>\n",
       "    </tr>\n",
       "    <tr>\n",
       "      <th>6</th>\n",
       "      <td>261</td>\n",
       "      <td>1964</td>\n",
       "      <td>37646</td>\n",
       "    </tr>\n",
       "    <tr>\n",
       "      <th>7</th>\n",
       "      <td>262</td>\n",
       "      <td>5297</td>\n",
       "      <td>37403</td>\n",
       "    </tr>\n",
       "    <tr>\n",
       "      <th>8</th>\n",
       "      <td>262</td>\n",
       "      <td>4916</td>\n",
       "      <td>37376</td>\n",
       "    </tr>\n",
       "    <tr>\n",
       "      <th>9</th>\n",
       "      <td>262</td>\n",
       "      <td>4962</td>\n",
       "      <td>37122</td>\n",
       "    </tr>\n",
       "  </tbody>\n",
       "</table>\n",
       "</div>"
      ],
      "text/plain": [
       "   Store  Customers  Sales\n",
       "0    909       1721  41551\n",
       "1    262       5132  38722\n",
       "2    262       5458  38484\n",
       "3    262       5192  38367\n",
       "4     57       1970  38037\n",
       "5    817       4381  38025\n",
       "6    261       1964  37646\n",
       "7    262       5297  37403\n",
       "8    262       4916  37376\n",
       "9    262       4962  37122"
      ]
     },
     "execution_count": 14,
     "metadata": {},
     "output_type": "execute_result"
    }
   ],
   "source": [
    "k = sales.top_10(\"Customers\",\"Sales\",\"Store\")\n",
    "k"
   ]
  },
  {
   "cell_type": "code",
   "execution_count": 15,
   "metadata": {
    "scrolled": true
   },
   "outputs": [
    {
     "data": {
      "text/plain": [
       "<matplotlib.text.Text at 0x27904b967b8>"
      ]
     },
     "execution_count": 15,
     "metadata": {},
     "output_type": "execute_result"
    },
    {
     "data": {
      "image/png": "[encoded data removed]",
      "text/plain": [
       "<matplotlib.figure.Figure at 0x27904b134e0>"
      ]
     },
     "metadata": {},
     "output_type": "display_data"
    }
   ],
   "source": [
    "\n",
    "# Open\n",
    "fig, (axis1) = plt.subplots(1,1,figsize=(15,4))\n",
    "ax = sns.countplot(x='Open',hue='DayOfWeek', data=rossmann_df,palette=\"husl\", ax=axis1)\n",
    "ax.text(1.6, 1.09,' 0 = closed, 1 = open', fontsize=11) #add text\n"
   ]
  },
  {
   "cell_type": "code",
   "execution_count": 16,
   "metadata": {
    "scrolled": false
   },
   "outputs": [
    {
     "data": {
      "text/plain": [
       "0    2015-07-31\n",
       "1    2015-07-31\n",
       "2    2015-07-31\n",
       "3    2015-07-31\n",
       "4    2015-07-31\n",
       "Name: Date, dtype: object"
      ]
     },
     "execution_count": 16,
     "metadata": {},
     "output_type": "execute_result"
    }
   ],
   "source": [
    "rossmann_df['Date'].head()"
   ]
  },
  {
   "cell_type": "code",
   "execution_count": 17,
   "metadata": {
    "scrolled": true
   },
   "outputs": [
    {
     "name": "stdout",
     "output_type": "stream",
     "text": [
      "Date\n",
      "2013-01         NaN\n",
      "2013-02   -0.047731\n",
      "2013-03    0.172829\n",
      "2013-04   -0.088224\n",
      "2013-05    0.010792\n",
      "2013-06   -0.025396\n",
      "2013-07    0.155734\n",
      "2013-08   -0.051719\n",
      "2013-09   -0.100932\n",
      "2013-10    0.053963\n",
      "2013-11    0.045340\n",
      "2013-12    0.181167\n",
      "2014-01   -0.189710\n",
      "2014-02   -0.047020\n",
      "2014-03    0.078777\n",
      "2014-04    0.007901\n",
      "2014-05    0.000762\n",
      "2014-06   -0.023864\n",
      "2014-07   -0.085002\n",
      "2014-08   -0.058336\n",
      "2014-09    0.004688\n",
      "2014-10   -0.001822\n",
      "2014-11    0.055485\n",
      "2014-12    0.166117\n",
      "2015-01   -0.016212\n",
      "2015-02   -0.103439\n",
      "2015-03    0.153449\n",
      "2015-04   -0.037508\n",
      "2015-05   -0.044336\n",
      "2015-06    0.096326\n",
      "2015-07    0.023916\n",
      "Name: Sales, dtype: float64\n",
      "----------------------------\n",
      "Date\n",
      "2013-01    5211.555578\n",
      "2013-02    5494.371397\n",
      "2013-03    5820.349168\n",
      "2013-04    5483.749836\n",
      "2013-05    5364.127383\n",
      "2013-06    5402.162960\n",
      "2013-07    6042.062260\n",
      "2013-08    5729.574049\n",
      "2013-09    5322.988430\n",
      "2013-10    5429.258788\n",
      "2013-11    5864.601614\n",
      "2013-12    6703.618140\n",
      "2014-01    5431.875799\n",
      "2014-02    5731.091512\n",
      "2014-03    5584.257312\n",
      "2014-04    5815.993333\n",
      "2014-05    5632.670534\n",
      "2014-06    5681.526188\n",
      "2014-07    5999.403381\n",
      "2014-08    5649.421252\n",
      "2014-09    5865.104029\n",
      "2014-10    5665.564878\n",
      "2014-11    6179.249661\n",
      "2014-12    6973.282456\n",
      "2015-01    5752.747866\n",
      "2015-02    5710.296541\n",
      "2015-03    5949.130132\n",
      "2015-04    5916.857578\n",
      "2015-05    5472.122002\n",
      "2015-06    6199.203976\n",
      "2015-07    6142.705511\n",
      "Name: Sales, dtype: float64\n"
     ]
    }
   ],
   "source": [
    "# Date\n",
    "\n",
    "# Create Year and Month columns\n",
    "rossmann_df['Year']  = rossmann_df['Date'].apply(lambda x: int(str(x)[:4]))\n",
    "rossmann_df['Month'] = rossmann_df['Date'].apply(lambda x: int(str(x)[5:7]))\n",
    "\n",
    "# test_df['Year']  = test_df['Date'].apply(lambda x: int(str(x)[:4]))\n",
    "# test_df['Month'] = test_df['Date'].apply(lambda x: int(str(x)[5:7]))\n",
    "\n",
    "# Assign Date column to Date(Year-Month) instead of (Year-Month-Day)\n",
    "# this column will be useful in analysis and visualization\n",
    "rossmann_df['Date'] = rossmann_df['Date'].apply(lambda x: (str(x)[:7]))\n",
    "# test_df['Date']     = test_df['Date'].apply(lambda x: (str(x)[:7]))\n",
    "\n",
    "# group by date and get average sales, and precent change\n",
    "average_sales    = rossmann_df.groupby('Date')[\"Sales\"].mean()\n",
    "pct_change_sales = rossmann_df.groupby('Date')[\"Sales\"].sum().pct_change()\n",
    "\n",
    "print(pct_change_sales)\n",
    "print(\"----------------------------\")\n",
    "print(average_sales)\n"
   ]
  },
  {
   "cell_type": "code",
   "execution_count": 18,
   "metadata": {},
   "outputs": [
    {
     "data": {
      "text/html": [
       "<div>\n",
       "<style>\n",
       "    .dataframe thead tr:only-child th {\n",
       "        text-align: right;\n",
       "    }\n",
       "\n",
       "    .dataframe thead th {\n",
       "        text-align: left;\n",
       "    }\n",
       "\n",
       "    .dataframe tbody tr th {\n",
       "        vertical-align: top;\n",
       "    }\n",
       "</style>\n",
       "<table border=\"1\" class=\"dataframe\">\n",
       "  <thead>\n",
       "    <tr style=\"text-align: right;\">\n",
       "      <th></th>\n",
       "      <th>Store</th>\n",
       "      <th>DayOfWeek</th>\n",
       "      <th>Date</th>\n",
       "      <th>Sales</th>\n",
       "      <th>Customers</th>\n",
       "      <th>Open</th>\n",
       "      <th>Promo</th>\n",
       "      <th>StateHoliday</th>\n",
       "      <th>SchoolHoliday</th>\n",
       "      <th>Year</th>\n",
       "      <th>Month</th>\n",
       "    </tr>\n",
       "  </thead>\n",
       "  <tbody>\n",
       "    <tr>\n",
       "      <th>0</th>\n",
       "      <td>1</td>\n",
       "      <td>5</td>\n",
       "      <td>2015-07</td>\n",
       "      <td>5263</td>\n",
       "      <td>555</td>\n",
       "      <td>1</td>\n",
       "      <td>1</td>\n",
       "      <td>0</td>\n",
       "      <td>1</td>\n",
       "      <td>2015</td>\n",
       "      <td>7</td>\n",
       "    </tr>\n",
       "    <tr>\n",
       "      <th>1</th>\n",
       "      <td>2</td>\n",
       "      <td>5</td>\n",
       "      <td>2015-07</td>\n",
       "      <td>6064</td>\n",
       "      <td>625</td>\n",
       "      <td>1</td>\n",
       "      <td>1</td>\n",
       "      <td>0</td>\n",
       "      <td>1</td>\n",
       "      <td>2015</td>\n",
       "      <td>7</td>\n",
       "    </tr>\n",
       "    <tr>\n",
       "      <th>2</th>\n",
       "      <td>3</td>\n",
       "      <td>5</td>\n",
       "      <td>2015-07</td>\n",
       "      <td>8314</td>\n",
       "      <td>821</td>\n",
       "      <td>1</td>\n",
       "      <td>1</td>\n",
       "      <td>0</td>\n",
       "      <td>1</td>\n",
       "      <td>2015</td>\n",
       "      <td>7</td>\n",
       "    </tr>\n",
       "    <tr>\n",
       "      <th>3</th>\n",
       "      <td>4</td>\n",
       "      <td>5</td>\n",
       "      <td>2015-07</td>\n",
       "      <td>13995</td>\n",
       "      <td>1498</td>\n",
       "      <td>1</td>\n",
       "      <td>1</td>\n",
       "      <td>0</td>\n",
       "      <td>1</td>\n",
       "      <td>2015</td>\n",
       "      <td>7</td>\n",
       "    </tr>\n",
       "    <tr>\n",
       "      <th>4</th>\n",
       "      <td>5</td>\n",
       "      <td>5</td>\n",
       "      <td>2015-07</td>\n",
       "      <td>4822</td>\n",
       "      <td>559</td>\n",
       "      <td>1</td>\n",
       "      <td>1</td>\n",
       "      <td>0</td>\n",
       "      <td>1</td>\n",
       "      <td>2015</td>\n",
       "      <td>7</td>\n",
       "    </tr>\n",
       "  </tbody>\n",
       "</table>\n",
       "</div>"
      ],
      "text/plain": [
       "   Store  DayOfWeek     Date  Sales  Customers  Open  Promo StateHoliday  \\\n",
       "0      1          5  2015-07   5263        555     1      1            0   \n",
       "1      2          5  2015-07   6064        625     1      1            0   \n",
       "2      3          5  2015-07   8314        821     1      1            0   \n",
       "3      4          5  2015-07  13995       1498     1      1            0   \n",
       "4      5          5  2015-07   4822        559     1      1            0   \n",
       "\n",
       "   SchoolHoliday  Year  Month  \n",
       "0              1  2015      7  \n",
       "1              1  2015      7  \n",
       "2              1  2015      7  \n",
       "3              1  2015      7  \n",
       "4              1  2015      7  "
      ]
     },
     "execution_count": 18,
     "metadata": {},
     "output_type": "execute_result"
    }
   ],
   "source": [
    "rossmann_df.head()"
   ]
  },
  {
   "cell_type": "code",
   "execution_count": 19,
   "metadata": {
    "scrolled": false
   },
   "outputs": [
    {
     "data": {
      "image/png": "[encoded data removed]",
      "text/plain": [
       "<matplotlib.figure.Figure at 0x27916722ef0>"
      ]
     },
     "metadata": {},
     "output_type": "display_data"
    }
   ],
   "source": [
    "fig, (axis1,axis2) = plt.subplots(2,1,sharex=True,figsize=(15,8))\n",
    "\n",
    "# plot average sales over time(year-month)\n",
    "ax1 = average_sales.plot(legend=True,ax=axis1,colormap=\"Purples_r\",marker='o',title=\"Average Sales\")\n",
    "ax1.set_xticks(range(len(average_sales)))\n",
    "ax1.set_xticklabels(average_sales.index.tolist(), rotation=90)\n",
    "\n",
    "# plot precent change for sales over time(year-month)\n",
    "ax2 = pct_change_sales.plot(legend=True,ax=axis2,marker='o',rot=90,colormap=\"hsv\",title=\"Sales Percent Change\")\n",
    "# sns.color_palette('coolwarm')\n",
    "# ax2.set_xticks(range(len(pct_change_sales)))\n",
    "# ax2.set_xticklabels(pct_change_sales.index.tolist(), rotation=90)"
   ]
  },
  {
   "cell_type": "code",
   "execution_count": 20,
   "metadata": {},
   "outputs": [
    {
     "data": {
      "text/html": [
       "<div>\n",
       "<style>\n",
       "    .dataframe thead tr:only-child th {\n",
       "        text-align: right;\n",
       "    }\n",
       "\n",
       "    .dataframe thead th {\n",
       "        text-align: left;\n",
       "    }\n",
       "\n",
       "    .dataframe tbody tr th {\n",
       "        vertical-align: top;\n",
       "    }\n",
       "</style>\n",
       "<table border=\"1\" class=\"dataframe\">\n",
       "  <thead>\n",
       "    <tr style=\"text-align: right;\">\n",
       "      <th></th>\n",
       "      <th>Sales</th>\n",
       "      <th>Customers</th>\n",
       "    </tr>\n",
       "    <tr>\n",
       "      <th>Year</th>\n",
       "      <th></th>\n",
       "      <th></th>\n",
       "    </tr>\n",
       "  </thead>\n",
       "  <tbody>\n",
       "    <tr>\n",
       "      <th>2013</th>\n",
       "      <td>38025</td>\n",
       "      <td>7388</td>\n",
       "    </tr>\n",
       "    <tr>\n",
       "      <th>2014</th>\n",
       "      <td>38037</td>\n",
       "      <td>5494</td>\n",
       "    </tr>\n",
       "    <tr>\n",
       "      <th>2015</th>\n",
       "      <td>41551</td>\n",
       "      <td>5458</td>\n",
       "    </tr>\n",
       "  </tbody>\n",
       "</table>\n",
       "</div>"
      ],
      "text/plain": [
       "      Sales  Customers\n",
       "Year                  \n",
       "2013  38025       7388\n",
       "2014  38037       5494\n",
       "2015  41551       5458"
      ]
     },
     "execution_count": 20,
     "metadata": {},
     "output_type": "execute_result"
    }
   ],
   "source": [
    "max_sales_cust = rossmann_df.groupby(\"Year\")[[\"Sales\",\"Customers\"]].max()\n",
    "max_sales_cust"
   ]
  },
  {
   "cell_type": "code",
   "execution_count": 21,
   "metadata": {},
   "outputs": [
    {
     "data": {
      "text/html": [
       "<div>\n",
       "<style>\n",
       "    .dataframe thead tr:only-child th {\n",
       "        text-align: right;\n",
       "    }\n",
       "\n",
       "    .dataframe thead th {\n",
       "        text-align: left;\n",
       "    }\n",
       "\n",
       "    .dataframe tbody tr th {\n",
       "        vertical-align: top;\n",
       "    }\n",
       "</style>\n",
       "<table border=\"1\" class=\"dataframe\">\n",
       "  <thead>\n",
       "    <tr style=\"text-align: right;\">\n",
       "      <th></th>\n",
       "      <th>Sales</th>\n",
       "      <th>Customers</th>\n",
       "    </tr>\n",
       "    <tr>\n",
       "      <th>Year</th>\n",
       "      <th></th>\n",
       "      <th></th>\n",
       "    </tr>\n",
       "  </thead>\n",
       "  <tbody>\n",
       "    <tr>\n",
       "      <th>2013</th>\n",
       "      <td>5658.533675</td>\n",
       "      <td>629.043686</td>\n",
       "    </tr>\n",
       "    <tr>\n",
       "      <th>2014</th>\n",
       "      <td>5833.290704</td>\n",
       "      <td>643.268034</td>\n",
       "    </tr>\n",
       "    <tr>\n",
       "      <th>2015</th>\n",
       "      <td>5878.245380</td>\n",
       "      <td>624.199843</td>\n",
       "    </tr>\n",
       "  </tbody>\n",
       "</table>\n",
       "</div>"
      ],
      "text/plain": [
       "            Sales   Customers\n",
       "Year                         \n",
       "2013  5658.533675  629.043686\n",
       "2014  5833.290704  643.268034\n",
       "2015  5878.245380  624.199843"
      ]
     },
     "execution_count": 21,
     "metadata": {},
     "output_type": "execute_result"
    }
   ],
   "source": [
    "avg_sales_cust = rossmann_df.groupby(\"Year\")[[\"Sales\",\"Customers\"]].mean()\n",
    "avg_sales_cust"
   ]
  },
  {
   "cell_type": "code",
   "execution_count": 22,
   "metadata": {},
   "outputs": [
    {
     "data": {
      "text/plain": [
       "<matplotlib.axes._subplots.AxesSubplot at 0x2790575c588>"
      ]
     },
     "execution_count": 22,
     "metadata": {},
     "output_type": "execute_result"
    },
    {
     "data": {
      "image/png": "[encoded data removed]",
      "text/plain": [
       "<matplotlib.figure.Figure at 0x279059c08d0>"
      ]
     },
     "metadata": {},
     "output_type": "display_data"
    }
   ],
   "source": [
    "\n",
    "\n",
    "# Plot average sales & customers for every year\n",
    "fig, (axis1,axis2) = plt.subplots(1,2,figsize=(15,4))\n",
    "\n",
    "sns.barplot(x='Year', y='Sales', data=rossmann_df, ax=axis1)\n",
    "sns.barplot(x='Year', y='Customers', data=rossmann_df, ax=axis2)\n",
    "\n",
    "# Drop Date column\n",
    "# rossmann_df.drop(['Date'], axis=1,inplace=True)\n",
    "# test_df.drop(['Date'], axis=1,inplace=True)"
   ]
  },
  {
   "cell_type": "code",
   "execution_count": 121,
   "metadata": {
    "scrolled": false
   },
   "outputs": [
    {
     "name": "stderr",
     "output_type": "stream",
     "text": [
      "C:\\ProgramData\\Anaconda3\\lib\\site-packages\\matplotlib\\cbook.py:136: MatplotlibDeprecationWarning: The Vega20 colormap was deprecated in version 2.0. Use tab20 instead.\n",
      "  warnings.warn(message, mplDeprecation, stacklevel=1)\n"
     ]
    },
    {
     "data": {
      "image/png": "[encoded data removed]",
      "text/plain": [
       "<matplotlib.figure.Figure at 0x27918643b00>"
      ]
     },
     "metadata": {},
     "output_type": "display_data"
    }
   ],
   "source": [
    "# Customers & Sales\n",
    "\n",
    "fig, (axis1,axis2) = plt.subplots(2,1,figsize=(15,8))\n",
    "\n",
    "# Plot max, min values, & 2nd, 3rd quartile\n",
    "# sns.boxplot([rossmann_df[\"Customers\"]], whis=np.inf, ax=axis1)\n",
    "ax1 = average_sales.plot(legend=True,ax=axis1,colormap=\"Purples_r\",marker='o',title=\"Average Sales\")\n",
    "ax1.set_xticks(range(len(average_sales)))\n",
    "ax1.set_xticklabels(average_sales.index.tolist(), rotation=90)\n",
    "# group by date and get average customers, and precent change\n",
    "average_customers      = rossmann_df.groupby('Date')[\"Customers\"].mean()\n",
    "# pct_change_customers = rossmann_df.groupby('Date')[\"Customers\"].sum().pct_change()\n",
    "\n",
    "# Plot average customers over the time\n",
    "# it should be correlated with the average sales over time\n",
    "ax = average_customers.plot(legend=True,marker='X',colormap=\"Vega20\", ax=axis2)\n",
    "ax.set_xticks(range(len(average_customers)))\n",
    "xlabels = ax.set_xticklabels(average_customers.index.tolist(), rotation=90)"
   ]
  },
  {
   "cell_type": "code",
   "execution_count": 25,
   "metadata": {},
   "outputs": [
    {
     "data": {
      "text/plain": [
       "<matplotlib.axes._subplots.AxesSubplot at 0x2790632aef0>"
      ]
     },
     "execution_count": 25,
     "metadata": {},
     "output_type": "execute_result"
    },
    {
     "data": {
      "image/png": "[encoded data removed]",
      "text/plain": [
       "<matplotlib.figure.Figure at 0x27905e0d908>"
      ]
     },
     "metadata": {},
     "output_type": "display_data"
    }
   ],
   "source": [
    "# DayOfWeek\n",
    "# In both cases where the store is closed and opened\n",
    "\n",
    "fig, (axis1,axis2) = plt.subplots(1,2,figsize=(15,4))\n",
    "\n",
    "sns.barplot(x='DayOfWeek', y='Sales', data=rossmann_df, order=[1,2,3,4,5,7,6], ax=axis1)\n",
    "sns.barplot(x='DayOfWeek', y='Customers', data=rossmann_df, order=[1,2,3,4,5,6,7], ax=axis2)"
   ]
  },
  {
   "cell_type": "code",
   "execution_count": 125,
   "metadata": {},
   "outputs": [
    {
     "data": {
      "text/plain": [
       "<matplotlib.axes._subplots.AxesSubplot at 0x2790615f5c0>"
      ]
     },
     "execution_count": 125,
     "metadata": {},
     "output_type": "execute_result"
    },
    {
     "data": {
      "image/png": "[encoded data removed]",
      "text/plain": [
       "<matplotlib.figure.Figure at 0x27905d17b70>"
      ]
     },
     "metadata": {},
     "output_type": "display_data"
    }
   ],
   "source": [
    "# Promo\n",
    "\n",
    "# Plot average sales & customers with/without promo\n",
    "fig, (axis1,axis2) = plt.subplots(1,2,figsize=(15,4))\n",
    "\n",
    "sns.barplot(x='Promo', y='Sales', data=rossmann_df, ax=axis1)\n",
    "sns.barplot(x='Promo', y='Customers', data=rossmann_df, ax=axis2)"
   ]
  },
  {
   "cell_type": "code",
   "execution_count": 45,
   "metadata": {
    "scrolled": true
   },
   "outputs": [
    {
     "data": {
      "image/png": "[encoded data removed]",
      "text/plain": [
       "<matplotlib.figure.Figure at 0x2790670d780>"
      ]
     },
     "metadata": {},
     "output_type": "display_data"
    }
   ],
   "source": [
    "ax = sns.countplot(x='Open', hue='DayOfWeek', data=rossmann_df, palette='Set1')\n"
   ]
  },
  {
   "cell_type": "code",
   "execution_count": 35,
   "metadata": {},
   "outputs": [
    {
     "name": "stdout",
     "output_type": "stream",
     "text": [
      "Year\n",
      "2013    5598\n",
      "2014    5794\n",
      "2015    5916\n",
      "Name: Sales, dtype: int64\n",
      "-----------------------------------\n",
      "Year\n",
      "2013         NaN\n",
      "2014    0.035013\n",
      "2015    0.021056\n",
      "Name: Sales, dtype: float64\n"
     ]
    }
   ],
   "source": [
    "median_sales = rossmann_df.groupby('Year')['Sales'].median()\n",
    "print(median_sales)\n",
    "print(\"-----------------------------------\")\n",
    "pct_median_change = rossmann_df.groupby('Year')['Sales'].median().pct_change()\n",
    "print(pct_median_change)"
   ]
  },
  {
   "cell_type": "code",
   "execution_count": 43,
   "metadata": {},
   "outputs": [
    {
     "name": "stdout",
     "output_type": "stream",
     "text": [
      "Year\n",
      "2013    603\n",
      "2014    619\n",
      "2015    606\n",
      "Name: Customers, dtype: int64\n",
      "-----------------------------------\n",
      "Year\n",
      "2013         NaN\n",
      "2014    0.026534\n",
      "2015   -0.021002\n",
      "Name: Customers, dtype: float64\n"
     ]
    }
   ],
   "source": [
    "# median customers\n",
    "median_cust = rossmann_df.groupby('Year')['Customers'].median()\n",
    "pct_median_custchange = rossmann_df.groupby('Year')['Customers'].median().pct_change()\n",
    "\n",
    "print(median_cust)\n",
    "print(\"-----------------------------------\")\n",
    "print(pct_median_custchange)"
   ]
  },
  {
   "cell_type": "code",
   "execution_count": 120,
   "metadata": {
    "scrolled": false
   },
   "outputs": [
    {
     "name": "stderr",
     "output_type": "stream",
     "text": [
      "C:\\ProgramData\\Anaconda3\\lib\\site-packages\\matplotlib\\cbook.py:136: MatplotlibDeprecationWarning: The Vega20 colormap was deprecated in version 2.0. Use tab20 instead.\n",
      "  warnings.warn(message, mplDeprecation, stacklevel=1)\n"
     ]
    },
    {
     "data": {
      "text/plain": [
       "<matplotlib.axes._subplots.AxesSubplot at 0x279185bd978>"
      ]
     },
     "execution_count": 120,
     "metadata": {},
     "output_type": "execute_result"
    },
    {
     "data": {
      "image/png": "[encoded data removed]",
      "text/plain": [
       "<matplotlib.figure.Figure at 0x279183cbc50>"
      ]
     },
     "metadata": {},
     "output_type": "display_data"
    }
   ],
   "source": [
    "# group sales/customer data by weekday\n",
    "day = rossmann_df[(rossmann_df['Open']!=0)]\n",
    "sales_day = day.groupby('DayOfWeek')['Sales'].mean()\n",
    "cust_day = day.groupby('DayOfWeek')['Customers'].mean()\n",
    "#\n",
    "fig, (axis1) = plt.subplots(1,1, sharex=True, figsize=(10,5))\n",
    "\n",
    "# plot median sales\n",
    "ax1 = sales_day.plot(legend=True, ax=axis1,colormap=\"Purples_r\", marker='o',title=\"mean\")\n",
    "ax1.set_xticks(sales_day.index)\n",
    "tmp = ax1.set_xticklabels(sales_day.index.tolist(), rotation=90)\n",
    "\n",
    "# overlay customer data\n",
    "cust_day.plot(legend=True, ax=axis1,colormap=\"Vega20\", marker='X', secondary_y=True)\n",
    "\n",
    "# subs = rossmann_df[rossmann_df['Promo']!=0]\n",
    "# cntchange = subs.groupby('Year')['Promo'].count().pct_change()\n",
    "# cntchange.plot(ax=axis1, marker='x', secondary_y=True)"
   ]
  },
  {
   "cell_type": "code",
   "execution_count": 96,
   "metadata": {},
   "outputs": [
    {
     "data": {
      "text/plain": [
       "DayOfWeek\n",
       "1     855.444984\n",
       "2     769.986753\n",
       "3     740.598876\n",
       "4     755.569784\n",
       "5     781.771639\n",
       "6     660.177526\n",
       "7    1441.532424\n",
       "Name: Customers, dtype: float64"
      ]
     },
     "execution_count": 96,
     "metadata": {},
     "output_type": "execute_result"
    }
   ],
   "source": [
    "cust_day"
   ]
  },
  {
   "cell_type": "code",
   "execution_count": 97,
   "metadata": {},
   "outputs": [
    {
     "data": {
      "text/plain": [
       "DayOfWeek\n",
       "1    8216.073074\n",
       "2    7088.113656\n",
       "3    6728.122978\n",
       "4    6767.310159\n",
       "5    7072.677012\n",
       "6    5874.840238\n",
       "7    8224.723908\n",
       "Name: Sales, dtype: float64"
      ]
     },
     "execution_count": 97,
     "metadata": {},
     "output_type": "execute_result"
    }
   ],
   "source": [
    "sales_day"
   ]
  },
  {
   "cell_type": "markdown",
   "metadata": {},
   "source": [
    "That is a very interesting plot. Let's assume day-1 is Monday and day-7 is Sunday. Throughout the week until Friday, less customers are ringing in more sales. On Saturday, both the number of sales and customers drop to the lowest and spike again on Sunday. However, only on Sunday there is an opposite behaviour i.e. more customers are ringing in less sales, in other words there is more customer traffic but less sales. There is only one conclusion from this plot, the customers who walk into the store during the week are serious customers who will most likely make a sale whereas customers walking in on Sunday appear to be distracted/disinterested/window-shopping! One area of improvement would be to look at converting the customer numbers to sales on the weekend, may be targeted promotions, etc."
   ]
  },
  {
   "cell_type": "code",
   "execution_count": null,
   "metadata": {
    "collapsed": true
   },
   "outputs": [],
   "source": []
  },
  {
   "cell_type": "code",
   "execution_count": 65,
   "metadata": {
    "scrolled": false
   },
   "outputs": [],
   "source": [
    "import calendar\n",
    "\n",
    "# select all stores that were open\n",
    "subs = rossmann_df[rossmann_df['Open']!=0]\n",
    "\n",
    "# groupby Year and Month\n",
    "selected_sales = subs.groupby(['Year', 'Month'])['Sales'].mean()\n",
    "selected_cust = subs.groupby(['Year', 'Month'])['Customers'].mean()\n",
    "\n"
   ]
  },
  {
   "cell_type": "code",
   "execution_count": 66,
   "metadata": {},
   "outputs": [
    {
     "name": "stdout",
     "output_type": "stream",
     "text": [
      "Year  Month\n",
      "2013  1        6239.641380\n",
      "      2        6428.597796\n",
      "      3        7212.834110\n",
      "      4        6579.319656\n",
      "      5        7076.217960\n",
      "      6        6467.051428\n",
      "      7        6923.154611\n",
      "      8        6595.927627\n",
      "      9        6363.388121\n",
      "      10       6473.347016\n",
      "      11       6904.509503\n",
      "      12       8613.455299\n",
      "2014  1        6539.402563\n",
      "      2        6678.038182\n",
      "      3        6654.021442\n",
      "      4        7226.782207\n",
      "      5        6948.119518\n",
      "      6        7250.660066\n",
      "      7        6891.479689\n",
      "      8        6714.305191\n",
      "      9        6756.588279\n",
      "      10       6757.320303\n",
      "      11       7539.603854\n",
      "      12       8603.805210\n",
      "2015  1        6913.177694\n",
      "      2        6660.270408\n",
      "      3        7071.240818\n",
      "      4        7349.110170\n",
      "      5        7308.496793\n",
      "      6        7295.618795\n",
      "      7        7033.344905\n",
      "Name: Sales, dtype: float64\n",
      "---------------\n",
      "Year  Month\n",
      "2013  1        705.962209\n",
      "      2        721.225799\n",
      "      3        787.661767\n",
      "      4        749.008788\n",
      "      5        790.927639\n",
      "      6        732.697946\n",
      "      7        758.206093\n",
      "      8        743.188410\n",
      "      9        727.280333\n",
      "      10       737.194136\n",
      "      11       758.266507\n",
      "      12       887.674845\n",
      "2014  1        727.706698\n",
      "      2        745.429403\n",
      "      3        740.717492\n",
      "      4        792.929160\n",
      "      5        767.486885\n",
      "      6        785.163176\n",
      "      7        764.843578\n",
      "      8        759.244341\n",
      "      9        766.682369\n",
      "      10       770.919760\n",
      "      11       812.833616\n",
      "      12       885.434361\n",
      "2015  1        733.945729\n",
      "      2        727.813390\n",
      "      3        749.987655\n",
      "      4        781.775315\n",
      "      5        780.287790\n",
      "      6        761.535693\n",
      "      7        737.176626\n",
      "Name: Customers, dtype: float64\n"
     ]
    }
   ],
   "source": [
    "print(selected_sales)\n",
    "print(\"---------------\")\n",
    "print(selected_cust)"
   ]
  },
  {
   "cell_type": "code",
   "execution_count": 67,
   "metadata": {},
   "outputs": [
    {
     "data": {
      "image/png": "[encoded data removed]",
      "text/plain": [
       "<matplotlib.figure.Figure at 0x27918cc33c8>"
      ]
     },
     "metadata": {},
     "output_type": "display_data"
    }
   ],
   "source": [
    "# plot\n",
    "fig, (axis1) = plt.subplots(1,1, figsize=(10,7))\n",
    "selected_sales.unstack().T.plot(ax=axis1)\n",
    "tmp = axis1.set_title(\"Yearly Sales\")\n",
    "tmp = axis1.set_ylabel(\"Sales\")\n",
    "tmp = axis1.set_xticks(range(0,13))\n",
    "tmp = axis1.set_xticklabels(calendar.month_abbr)"
   ]
  }
 ],
 "metadata": {
  "kernelspec": {
   "display_name": "Python 3",
   "language": "python",
   "name": "python3"
  },
  "language_info": {
   "codemirror_mode": {
    "name": "ipython",
    "version": 3
   },
   "file_extension": ".py",
   "mimetype": "text/x-python",
   "name": "python",
   "nbconvert_exporter": "python",
   "pygments_lexer": "ipython3",
   "version": "3.6.1"
  }
 },
 "nbformat": 4,
 "nbformat_minor": 2
}
